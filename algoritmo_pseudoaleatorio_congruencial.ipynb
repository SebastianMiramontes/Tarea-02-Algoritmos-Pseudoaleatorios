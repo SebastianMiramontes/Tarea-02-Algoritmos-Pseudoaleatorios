{
  "nbformat": 4,
  "nbformat_minor": 0,
  "metadata": {
    "colab": {
      "provenance": []
    },
    "kernelspec": {
      "name": "python3",
      "display_name": "Python 3"
    },
    "language_info": {
      "name": "python"
    }
  },
  "cells": [
    {
      "cell_type": "markdown",
      "source": [
        "# Método Congruencial Lineal (MCL)"
      ],
      "metadata": {
        "id": "mC9rvE6WbfQ4"
      }
    },
    {
      "cell_type": "markdown",
      "source": [
        "## Equipo\n",
        "## Sebastián Miramontes A01285296\n",
        "## Mateo Zepeda A01722398"
      ],
      "metadata": {
        "id": "Tf-0aMlcZvTo"
      }
    },
    {
      "cell_type": "code",
      "execution_count": 18,
      "metadata": {
        "id": "n8amaESCZpEV"
      },
      "outputs": [],
      "source": [
        "def MCL(a, c, m, X0, n_iter):\n",
        "    Lista1 = []\n",
        "    Lista2 = []\n",
        "    Lista3 = []\n",
        "    Lista4 = []\n",
        "\n",
        "    Xn = X0\n",
        "\n",
        "    for n in range(n_iter + 1):\n",
        "        aXn_c = a * Xn + c\n",
        "        Xn1 = aXn_c % m\n",
        "        Lista1.append(n)\n",
        "        Lista2.append(Xn)\n",
        "        Lista3.append(aXn_c)\n",
        "        Lista4.append(Xn1)\n",
        "        Xn = Xn1\n",
        "\n",
        "    import pandas as pd\n",
        "\n",
        "    tabla = pd.DataFrame({\n",
        "        \"n\": Lista1,\n",
        "        \"X(n)\": Lista2,\n",
        "        \"a*X(n)+c\": Lista3,\n",
        "        \"[a*X(n)+c] mod m\": Lista4\n",
        "    })\n",
        "\n",
        "    print(tabla)\n"
      ]
    },
    {
      "cell_type": "markdown",
      "source": [
        "Ejemplo de presentación"
      ],
      "metadata": {
        "id": "nlOfwNnLeo3x"
      }
    },
    {
      "cell_type": "code",
      "source": [
        "MCL(1, 7, 13, 7, 15)"
      ],
      "metadata": {
        "colab": {
          "base_uri": "https://localhost:8080/"
        },
        "id": "iMI4MoA2cMPI",
        "outputId": "8ee4f354-702c-4ace-dd56-5b893e4f0d25"
      },
      "execution_count": 19,
      "outputs": [
        {
          "output_type": "stream",
          "name": "stdout",
          "text": [
            "     n  X(n)  a*X(n)+c  [a*X(n)+c] mod m\n",
            "0    0     7        14                 1\n",
            "1    1     1         8                 8\n",
            "2    2     8        15                 2\n",
            "3    3     2         9                 9\n",
            "4    4     9        16                 3\n",
            "5    5     3        10                10\n",
            "6    6    10        17                 4\n",
            "7    7     4        11                11\n",
            "8    8    11        18                 5\n",
            "9    9     5        12                12\n",
            "10  10    12        19                 6\n",
            "11  11     6        13                 0\n",
            "12  12     0         7                 7\n",
            "13  13     7        14                 1\n",
            "14  14     1         8                 8\n",
            "15  15     8        15                 2\n"
          ]
        }
      ]
    },
    {
      "cell_type": "markdown",
      "source": [
        "Ejemplo aleatorio"
      ],
      "metadata": {
        "id": "LrlqPvEDe0RA"
      }
    },
    {
      "cell_type": "code",
      "source": [
        "import random\n",
        "a = random.randint(1, 3)\n",
        "c = random.randint(3, 6)\n",
        "m = random.randint(13, 20)\n",
        "X0 = c\n",
        "n_iter = random.randint(10, 30)\n",
        "print(a, c, m, X0, n_iter)\n",
        "\n",
        "MCL(a, c, m, X0, n_iter)"
      ],
      "metadata": {
        "colab": {
          "base_uri": "https://localhost:8080/"
        },
        "id": "DpPPJYOKe2AA",
        "outputId": "82702d9d-aef6-4a10-dee1-d1724466b8e4"
      },
      "execution_count": 25,
      "outputs": [
        {
          "output_type": "stream",
          "name": "stdout",
          "text": [
            "2 3 19 3 14\n",
            "     n  X(n)  a*X(n)+c  [a*X(n)+c] mod m\n",
            "0    0     3         9                 9\n",
            "1    1     9        21                 2\n",
            "2    2     2         7                 7\n",
            "3    3     7        17                17\n",
            "4    4    17        37                18\n",
            "5    5    18        39                 1\n",
            "6    6     1         5                 5\n",
            "7    7     5        13                13\n",
            "8    8    13        29                10\n",
            "9    9    10        23                 4\n",
            "10  10     4        11                11\n",
            "11  11    11        25                 6\n",
            "12  12     6        15                15\n",
            "13  13    15        33                14\n",
            "14  14    14        31                12\n"
          ]
        }
      ]
    }
  ]
}