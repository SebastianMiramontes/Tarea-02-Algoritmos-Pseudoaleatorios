{
  "nbformat": 4,
  "nbformat_minor": 0,
  "metadata": {
    "colab": {
      "provenance": []
    },
    "kernelspec": {
      "name": "python3",
      "display_name": "Python 3"
    },
    "language_info": {
      "name": "python"
    }
  },
  "cells": [
    {
      "cell_type": "markdown",
      "source": [
        "# Método del producto Medio"
      ],
      "metadata": {
        "id": "vLqeL-3Fa4ld"
      }
    },
    {
      "cell_type": "markdown",
      "source": [
        "## Equipo\n",
        "##Sebastián Miramontes A01285296\n",
        "## Mateo Zepeda A01722398"
      ],
      "metadata": {
        "id": "NRQFGzuW6ZfA"
      }
    },
    {
      "cell_type": "code",
      "source": [
        "def funcion(numero_inicial, numero_inicial2):\n",
        "    lista1 = []\n",
        "    lista2 = []\n",
        "    valor1 = 1\n",
        "    while valor1:\n",
        "        nuevo_numero = numero_inicial * numero_inicial2\n",
        "        nuevo_numero = str(nuevo_numero)\n",
        "        nuevo_numero = nuevo_numero[1:-1]\n",
        "        if len(nuevo_numero) > 0:\n",
        "          if nuevo_numero[0] == '0':\n",
        "            nuevo_numero = nuevo_numero[1:]\n",
        "        if len(nuevo_numero) >= 1 :\n",
        "          valor1 = nuevo_numero[0:3]\n",
        "          lista1.append(valor1)\n",
        "        else:\n",
        "          valor1 = 0\n",
        "          lista1.append(valor1)\n",
        "        if len(nuevo_numero) >= 4:\n",
        "          valor2 = nuevo_numero[-3:]\n",
        "          lista2.append(valor2)\n",
        "        else:\n",
        "          valor2 = 0\n",
        "          lista2.append(valor2)\n",
        "        numero_inicial = numero_inicial2\n",
        "        numero_inicial2 = int(valor1)\n",
        "        if numero_inicial == 0:\n",
        "          break\n",
        "    print(lista1)\n",
        "    print(lista2)"
      ],
      "metadata": {
        "id": "vfeKR9cHCJBE"
      },
      "execution_count": 5,
      "outputs": []
    },
    {
      "cell_type": "markdown",
      "source": [
        "Ejemplo de clase"
      ],
      "metadata": {
        "id": "ETowJXgvZPlj"
      }
    },
    {
      "cell_type": "code",
      "source": [
        "numero_inicial = 151\n",
        "numero_inicial2 = 155\n",
        "funcion(numero_inicial, numero_inicial2)\n"
      ],
      "metadata": {
        "id": "unAswcrzth92",
        "colab": {
          "base_uri": "https://localhost:8080/"
        },
        "outputId": "0f3a7915-bc64-42e5-8beb-4d7fbb352aa5"
      },
      "execution_count": 6,
      "outputs": [
        {
          "output_type": "stream",
          "name": "stdout",
          "text": [
            "['340', '270', '180', '860', '548', '712', '901', '415', '739', '668', '936', '252', '358', '21', '51', '7', '5', 0]\n",
            "[0, 0, 0, 0, '480', '128', '017', '151', '391', 0, '365', '524', '587', 0, 0, 0, 0, 0]\n"
          ]
        }
      ]
    },
    {
      "cell_type": "markdown",
      "source": [
        "Segundo ejemplo aleatorio"
      ],
      "metadata": {
        "id": "7tDSR3bAZYFu"
      }
    },
    {
      "cell_type": "code",
      "source": [
        "import random\n",
        "numero_inicial = random.randint(150, 200)\n",
        "numero_inicial2 = random.randint(150, 200)\n",
        "print(numero_inicial)\n",
        "print(numero_inicial2)\n",
        "funcion(numero_inicial, numero_inicial2)"
      ],
      "metadata": {
        "colab": {
          "base_uri": "https://localhost:8080/"
        },
        "id": "hefc4NolZatx",
        "outputId": "84894cca-3025-4310-fd25-e4ce5b2c829d"
      },
      "execution_count": 7,
      "outputs": [
        {
          "output_type": "stream",
          "name": "stdout",
          "text": [
            "194\n",
            "175\n",
            "['395', '912', '602', '490', '949', '650', '168', '920', '545', '140', '630', '820', '166', '361', '992', '581', '763', '433', '303', '311', '423', '315', '332', '458', '520', '381', '981', '737', '229', '687', '573', '936', '363', '397', '441', '750', '307', '302', '271', '184', '986', '814', '260', '116', '16', '85', '36', '6', '1', 0]\n",
            "[0, 0, '024', '902', '498', '501', '685', 0, '456', 0, 0, 0, '660', '612', 0, '811', '635', '330', '037', '119', 0, '155', '324', 0, '205', '816', '812', '376', '299', '877', '732', '365', '632', '976', '411', '507', '075', '025', 0, 0, 0, '142', 0, '164', 0, 0, 0, 0, 0, 0]\n"
          ]
        }
      ]
    }
  ]
}